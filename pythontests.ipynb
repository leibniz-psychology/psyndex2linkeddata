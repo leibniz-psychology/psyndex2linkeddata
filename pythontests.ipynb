{
 "cells": [
  {
   "attachments": {},
   "cell_type": "markdown",
   "metadata": {},
   "source": [
    "# Language guessing"
   ]
  },
  {
   "cell_type": "code",
   "execution_count": 14,
   "metadata": {},
   "outputs": [
    {
     "name": "stdout",
     "output_type": "stream",
     "text": [
      "de\n"
     ]
    }
   ],
   "source": [
    "import langid\n",
    "langid.set_languages([\"de\", \"en\"])\n",
    "\n",
    "def guess_language(string_in_language):\n",
    "    return (langid.classify(string_in_language)[0])\n",
    "\n",
    "# print(langid.classify(\"Zur transgenerationalen Traumatisierung\"))\n",
    "# print(langid.classify(\"Ätiologie und Ansätze für die Therapie\"))\n",
    "\n",
    "# print(langid.classify(\"Zur transgenerationalen Traumatisierung\")[0])\n",
    "print(guess_language(\"\\\"A 'true' artist may draw mountainous seas!\\\" - Eine Würdigung von Paul Watzlawick zu seinem 100. Geburtstag\"))\n",
    "# print(guess_language(\"What does it mean for children's development whether and to what extent both parents are employed and they accordingly spend part of the day outside the family? And how should care for young children be structured? Research findings from Developmental Psychology provide some answers. (translated by DeepL)\"))"
   ]
  },
  {
   "attachments": {},
   "cell_type": "markdown",
   "metadata": {},
   "source": [
    "# Checking strings for non-letters"
   ]
  },
  {
   "cell_type": "code",
   "execution_count": 12,
   "metadata": {},
   "outputs": [
    {
     "name": "stdout",
     "output_type": "stream",
     "text": [
      "yes\n"
     ]
    }
   ],
   "source": [
    "\n",
    "language = \"EnglishX$X$\"\n",
    "# check if string contains any non-letter character:\n",
    "if not language.isalpha():\n",
    "    print(\"yes\")\n",
    "else:\n",
    "    print(\"no\")"
   ]
  },
  {
   "attachments": {},
   "cell_type": "markdown",
   "metadata": {},
   "source": [
    "# Reconciling affiliation with ror"
   ]
  },
  {
   "cell_type": "code",
   "execution_count": 15,
   "metadata": {},
   "outputs": [
    {
     "name": "stdout",
     "output_type": "stream",
     "text": [
      "Zagreb Childrenğt;'s Hospital, Pediatric Clinic\n",
      "Test Zagreb Childrenğt;'s Hospital, Pediatric Clinic more\n",
      "p &lt; .05\n",
      " &lt; \n",
      "haha ∞ ™\n",
      "Geoffrey Jefferson\n"
     ]
    }
   ],
   "source": [
    "import requests_cache\n",
    "from datetime import timedelta\n",
    "# from mappings import geonames_countries\n",
    "# from mappings import abstract_origins\n",
    "# from mappings import dd_codes\n",
    "\n",
    "ROR_API_URL = \"https://api.ror.org/organizations?affiliation=\"\n",
    "\n",
    "from mappings import dd_codes\n",
    "\n",
    "def replace_encodings(text):\n",
    "    for case in dd_codes:\n",
    "        text = text.replace(case[0], case[1]) \n",
    "    return text\n",
    "\n",
    "urls_expire_after = {\n",
    "    # Custom cache duration per url, 0 means \"don't cache\"\n",
    "    # f'{SKOSMOS_URL}/rest/v1/label?uri=https%3A//w3id.org/zpid/vocabs/terms/09183&lang=de': 0,\n",
    "    # f'{SKOSMOS_URL}/rest/v1/label?uri=https%3A//w3id.org/zpid/vocabs/terms/': 0,\n",
    "}\n",
    "\n",
    "session = requests_cache.CachedSession(\n",
    "    \".cache/requests\",\n",
    "    allowable_codes=[200, 404],\n",
    "    expire_after=timedelta(days=30),\n",
    "    urls_expire_after=urls_expire_after,\n",
    ")\n",
    "\n",
    "def get_ror_id_from_api(affiliation_string):\n",
    "    # this function takes a string with an affiliation name and returns the ror id for that affiliation from the ror api\n",
    "    # clean the string to make sure things like \"^DDS\" are replaced:\n",
    "    affiliation_string = replace_encodings(affiliation_string)\n",
    "    #replace_encodings(affiliation_string)\n",
    "    ror_api_url = ROR_API_URL + affiliation_string\n",
    "    # make a request to the ror api:\n",
    "    # ror_api_request = requests.get(ror_api_url)\n",
    "    # make request to api with caching:\n",
    "    ror_api_request = session.get(\n",
    "            ror_api_url, timeout=20\n",
    "    )\n",
    "    # if the request was successful, get the json response:\n",
    "    if ror_api_request.status_code == 200:\n",
    "        ror_api_response = ror_api_request.json()\n",
    "        # check if the response has any hits:\n",
    "        if len(ror_api_response[\"items\"]) > 0:\n",
    "            # if so, get the item with a key value pair of \"chosen\" and \"true\" and return its id:\n",
    "            for item in ror_api_response[\"items\"]:\n",
    "                if item[\"chosen\"] == True:\n",
    "                    return item[\"organization\"][\"id\"]\n",
    "        else:\n",
    "            return None\n",
    "    else:\n",
    "        return None\n",
    "    \n",
    "\n",
    "    # here is a list of affiliation strings to go through:\n",
    "affiliation_strings = [\n",
    "    \"Klinik für Frauenheilkunde und Geburtshilfe, Universitätsklinikum Ulm\",\n",
    "    \"Klinik für Psychososmatische Medizin und Psychotherapie, Universitätsklinikum Ulm\",\n",
    "    \"Sektion Medizinische Psychologie, Universitätsklinikum Ulm\",\n",
    "    \"Klinik für Psychososmatische Medizin und Psychotherapie, Universitätsklinikum Ulm\",\n",
    "    \"Psychology School, Hochschule Fresenius ^DDS University of Applied Sciences, Düsseldorf\",\n",
    "    \"Fakultät Medizin, MSH Medical School Hamburg ^DDS University of Applied Sciences and Medical University, Hamburg\",\n",
    "    \"Fakultät Medizin, MSH Medical School Hamburg ^DDS University of Applied Sciences and Medical University, Hamburg\",\n",
    "    \"Department of Child and Adolescent Psychiatry, Psychosomatics and Psychotherapy; LVR Klinikum Essen; University Hospital Essen; University of Duisburg-Essen; Essen\",\n",
    "    \"Child and Adolescent Psychiatry/Psychology, Erasmus Medical Center Rotterdam\"\n",
    "]\n",
    "\n",
    "# use the function to get the ror id for each affiliation string:\n",
    "\n",
    "# for affiliation_string in affiliation_strings:\n",
    "#     print(replace_encodings(affiliation_string) + \": \" + str(get_ror_id_from_api(affiliation_string)))\n",
    "\n",
    "# print(replace_encodings(\"Stimulus ^DDS non psychological interference ^DDL analogy\"))\n",
    "print(replace_encodings(\"Zagreb Children^D&gt;'s Hospital, Pediatric Clinic\"))\n",
    "print(\"Test \" + replace_encodings(\"Zagreb Children^D&gt;'s Hospital, Pediatric Clinic\") + \" more\")\n",
    "print(replace_encodings(\"p &lt; .05\"))\n",
    "print(replace_encodings(' &lt; '))\n",
    "print(replace_encodings('haha ^DIF ^DTM'))\n",
    "print(replace_encodings('Geo^Dffrey Je^Dfferson'))\n",
    "# print(get_ror_id_from_api(\"Klinik für Frauenheilkunde und Geburtshilfe, Universitätsklinikum Ulm\"))"
   ]
  }
 ],
 "metadata": {
  "kernelspec": {
   "display_name": "python-3.10.10",
   "language": "python",
   "name": "python3"
  },
  "language_info": {
   "codemirror_mode": {
    "name": "ipython",
    "version": 3
   },
   "file_extension": ".py",
   "mimetype": "text/x-python",
   "name": "python",
   "nbconvert_exporter": "python",
   "pygments_lexer": "ipython3",
   "version": "3.10.10"
  },
  "orig_nbformat": 4
 },
 "nbformat": 4,
 "nbformat_minor": 2
}
