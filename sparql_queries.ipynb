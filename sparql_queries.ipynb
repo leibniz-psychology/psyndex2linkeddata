{
 "cells": [
  {
   "attachments": {},
   "cell_type": "markdown",
   "metadata": {},
   "source": [
    "# Use rdflib to do the queries\n",
    "\n",
    "So import the necessary libraries:"
   ]
  },
  {
   "cell_type": "code",
   "execution_count": 2,
   "metadata": {},
   "outputs": [
    {
     "data": {
      "text/plain": [
       "<Graph identifier=N8d762ccc1a40494cb7a4921afaed6eb8 (<class 'rdflib.graph.Graph'>)>"
      ]
     },
     "execution_count": 2,
     "metadata": {},
     "output_type": "execute_result"
    }
   ],
   "source": [
    "from rdflib import Graph, Literal, Dataset, URIRef, Namespace\n",
    "from rdflib.namespace import RDF, RDFS, Namespace\n",
    "from rdflib.namespace import XSD\n",
    "from rdflib import BNode\n",
    "# import xml.etree.ElementTree as ET\n",
    "# import re\n",
    "# import html\n",
    "\n",
    "# set up namespaces\n",
    "bf = Namespace(\"http://id.loc.gov/ontologies/bibframe/\")\n",
    "bflc = Namespace(\"http://id.loc.gov/ontologies/bflc/\")\n",
    "madsrdf = Namespace(\"http://www.loc.gov/mads/rdf/v1#\")\n",
    "owl = Namespace(\"http://www.w3.org/2002/07/owl#\")\n",
    "rdfs = Namespace(\"http://www.w3.org/2000/01/rdf-schema#\")\n",
    "skos = Namespace(\"http://www.w3.org/2004/02/skos/core#\")\n",
    "xsd = Namespace(\"http://www.w3.org/2001/XMLSchema#\")\n",
    "lang = Namespace(\"http://id.loc.gov/vocabulary/iso639-2/\")\n",
    "locid = Namespace(\"http://id.loc.gov/vocabulary/identifiers/\")\n",
    "pxc = Namespace(\"https://w3id.org/zpid/ontology/classes/\")\n",
    "pxp = Namespace(\"https://w3id.org/zpid/ontology/properties/\")\n",
    "roles = Namespace(\"https://w3id.org/zpid/vocabs/roles/\")\n",
    "works = Namespace(\"https://w3id.org/zpid/resources/works/\")\n",
    "instances = Namespace(\"https://w3id.org/zpid/resources/instances/\")\n",
    "\n",
    "# set up graph and fill it with data from an rdf file:\n",
    "g = Graph()\n",
    "g.parse(\"ttl-data/bibframe_records.xml\", format=\"xml\")\n"
   ]
  },
  {
   "attachments": {},
   "cell_type": "markdown",
   "metadata": {},
   "source": [
    "# Show me all Records with a subtitle"
   ]
  },
  {
   "cell_type": "code",
   "execution_count": 3,
   "metadata": {},
   "outputs": [
    {
     "name": "stdout",
     "output_type": "stream",
     "text": [
      "0390654 hat Untertitel Gespräche effektiv gestalten\n",
      "0381631 hat Untertitel BDA-Befragung zur psychosozialen Unterstützung in der Akutmedizin im Herbst 2019\n",
      "0390665 hat Untertitel Symptoms, risk factors, and treatment\n",
      "0390735 hat Untertitel Eine Einführung\n",
      "0390009 hat Untertitel Die vermittelnde Rolle von Akzeptanz, Machbarkeit und Kooperation\n",
      "0390326 hat Untertitel Psychoanalyse, Sozialisationstheorie und Tiefenhermeneutik\n",
      "0390043 hat Untertitel Beiträge zur 40. Jahrestagung des Arbeitskreises Klinische Psychologie in der Rehabilitation vom 12.11.-13.11.2021 online\n",
      "0389961 hat Untertitel Longitudinale Betrachtung von Klassenklima, Lehrer-Schüler-Beziehung und sozialer Partizipation\n",
      "0388779 hat Untertitel Somatic and depressive disorders, resilience and illness perception\n",
      "0390680 hat Untertitel Ätiologie und Ansätze für die Therapie\n",
      "0390316 hat Untertitel Jahresschwerpunkt 2022\n",
      "0389999 hat Untertitel Ursachen, Folgen und Prävention wissenschaftlichen Fehlverhaltens\n",
      "0390247 hat Untertitel Auf der Suche nach Autonomie und Individualität nach existenziellen Krisen\n",
      "0390053 hat Untertitel Ein systematisches Review\n",
      "0390527 hat Untertitel (geb. 1926 - gest. 2021)\n",
      "0390662 hat Untertitel A German version of the Daydreaming Frequency Scale\n",
      "0390032 hat Untertitel Formal aspects of unproctored Web-based personality assessment in relation to its content and quality\n",
      "0389995 hat Untertitel Berufswahlmotive und Berufswahlsicherheit im Studium des beruflichen Lehramts\n",
      "0390664 hat Untertitel Von der Forschungsidee zur SPSS-Auswertung\n",
      "0390517 hat Untertitel Eine Leser*innenbefragung zum 20-jährigen PTJ-Jubiläum (Teil 1)\n",
      "0390700 hat Untertitel Was bei Menschen mit einer multiplen Persönlichkeit zu beachten ist\n",
      "0393788 hat Untertitel Wie wir Rollen als Ressource nutzen können\n",
      "0390514 hat Untertitel Zwanzig Jahre Psychotherapeutenjournal: Mission accomplished - Und wie weiter?\n",
      "0390702 hat Untertitel Wie man die wichtigsten Methoden des Psychodramas auch in der Online-Begegnung nutzen kann\n",
      "0390549 hat Untertitel Literaturübersicht und Machbarkeitsstudie\n",
      "0390751 hat Untertitel Informationen für Betroffene, Angehörige und Interessierte\n",
      "0390327 hat Untertitel Fachkonferenz \"Kinder brauchen mehr/Jugend braucht mehr\"\n",
      "0390780 hat Untertitel Was neue Führungskräfte beachten sollten\n",
      "0390782 hat Untertitel Wie Sie als extravertierter Hochsensibler gut leben können\n",
      "0390031 hat Untertitel An exploratory study\n",
      "0390495 hat Untertitel Eine Einführung für Studium und Praxis\n",
      "0390325 hat Untertitel Wie wir Beziehungen anbahnen und Entwicklungen fördern. Ein Lehr- und Lernbuch\n",
      "0390685 hat Untertitel Vermittlung der mentalisations-orientierten Traumatherapie in einem Online-Seminar\n",
      "0390038 hat Untertitel Challenges and recommendations\n",
      "0390027 hat Untertitel Zusammenhänge mit akademischen Kompetenzen, Motivation, sozialer Integration und Wohlbefinden\n",
      "0389922 hat Untertitel Fachunterschiede und Effekte auf Wohlbefinden und Abbruchsintention\n",
      "0389997 hat Untertitel Eine Analyse der Generalisierbarkeit und Zuverlässigkeit von Videobeobachtungen\n",
      "0390044 hat Untertitel Manual\n",
      "0390487 hat Untertitel Die einfühlsam-professionelle Begleitung von Menschen, die um ein Tier trauern\n",
      "0390029 hat Untertitel A conceptual replication using Web-based reviews\n",
      "0390022 hat Untertitel Testing the foreigner objectification scale with German adolescents\n",
      "0390708 hat Untertitel Wirkungen digitaler Begegnung mit Studierenden an einer Hochschule für Soziale Arbeit, Gesundheit und Pflege\n",
      "0390266 hat Untertitel Mindfulness-based interventions in positive environments\n",
      "0390002 hat Untertitel Interdisziplinäre Beiträge zum Umgang mit Sterben, Tod und Trauer\n",
      "0390328 hat Untertitel Befragung zur Situation der Freiberuflerinnen und Freiberufler in der Corona-Pandemie\n",
      "0390488 hat Untertitel Ein Beitrag zur pferdegestützten Psychotherapie\n",
      "0390357 hat Untertitel The relationship of personality to educational decisions and academic success\n",
      "0389927 hat Untertitel A mixed-methods approach to validating a new scale\n",
      "0390522 hat Untertitel Fachdidaktische Grundlagen für Deutschland, Österreich und die Schweiz\n",
      "0390523 hat Untertitel In 6 Schritten vom guten Vorsatz zur neuen Gewohnheit\n",
      "0390074 hat Untertitel \"Alle sind gleich, aber manche sind gleicher\"\n",
      "0390020 hat Untertitel Evaluation eines Elterntrainings\n",
      "0383286 hat Untertitel For the time after the pandemic, we need a vision and investments for the future\n",
      "0390311 hat Untertitel Eine Studie zur Rolle des Schlafes und elterlicher Unsicherheiten sowie angewandter Behandlungskonzepte\n",
      "0390217 hat Untertitel The role of sense of safety, political views, and psychological distress\n",
      "0390019 hat Untertitel Stressbelastung und Coping-Strategien von Eltern schulpflichtiger Kinder\n",
      "0390318 hat Untertitel Aktuelle Forschungsbefunde und die Rolle der Schulpsychologie\n",
      "0390688 hat Untertitel Einsatz von Smartphone und Co. als Therapietools mit Kindern und Jugendlichen, Fallvignetten aus der psychotherapeutischen Praxis\n",
      "0390309 hat Untertitel Häufigkeit, Motivation und Einstellung des Konsums und deren Geschlechtsunterschiede\n",
      "0390697 hat Untertitel Traumatisierungen im intra-uteralen Raum über die leibliche Wechselseitigkeit und deren Auswirkungen auf die Rollengestaltung und Begegnungsfähigkeit\n",
      "0390701 hat Untertitel Warum genug nie genügen kann\n",
      "0390227 hat Untertitel Ungewollte Kündigungen vermeiden\n",
      "0390063 hat Untertitel Werksgeschichtliche, biographische und methodologische Perspektiven\n",
      "0390684 hat Untertitel Ein psychodramatisches Tool in der ressourcenorientierten Arbeit\n",
      "0390055 hat Untertitel Zwanghaftes Sexualverhalten in der ICD-11\n",
      "0390320 hat Untertitel Herausforderungen, Entwicklungen und Desiderate\n",
      "0390711 hat Untertitel Mit Hund und Elefant über den Rubikon\n",
      "0390319 hat Untertitel Neue Wege der Psychologie an Schulen\n",
      "0381633 hat Untertitel Interventionelle Ansätze zur Reduktion der psychischen Belastung\n",
      "0397112 hat Untertitel Der \"mehrfarbige Fetzen\", die \"ganze Libido\" und die \"Vergeistigung\" Massenpsychologie und Ich-Analyse im historischen und im biographischen Kontext Sigmund Freuds\n",
      "0390750 hat Untertitel Das Selbsthilfebuch\n",
      "0390010 hat Untertitel Ein Vergleich von Quereinsteigern und traditionell ausgebildeten Lehramtsanwärtern im Vorbereitungsdienst\n",
      "0390225 hat Untertitel Zugänge zur Kinder- und Jugendlichen-Psychoanalyse weltweit\n",
      "0390006 hat Untertitel Diagnostik mit dem Mehrdimensionalen Angstinventar für Kinder und Jugendliche (MAI-KJ)\n",
      "0390059 hat Untertitel Grundlagen und Methoden auch für die agile Arbeitswelt\n",
      "0401567 hat Untertitel Vom Screening zur Intervention\n",
      "0390036 hat Untertitel A Web-based replication of the anxiety-complexity effect\n",
      "0390048 hat Untertitel Sehnsucht nach Beziehung und Geborgenheit\n",
      "0390264 hat Untertitel Outward Bound in der Bonner Republik\n",
      "0390734 hat Untertitel Why the goal-contagion effect is overestimated\n",
      "0390052 hat Untertitel Ein systematisches Review\n",
      "0390689 hat Untertitel Das Therapeutische Spiralen Modell für die sichere Arbeit mit Trauma\n",
      "0390310 hat Untertitel Eine Tagebuchstudie\n",
      "0390035 hat Untertitel Trends and future directions\n",
      "0390526 hat Untertitel Kritische Chronologie einer Krise\n",
      "0390050 hat Untertitel Unter der psychiatrischen Lupe\n",
      "0390030 hat Untertitel A review\n",
      "0390682 hat Untertitel Die Spätfolgen von Bindungs- und Entwicklungstraumatisierung\n",
      "0390068 hat Untertitel Erkenntnisse aus der Arbeits- und Organisationspsychologie\n",
      "0390489 hat Untertitel Wie Diensthunde einsatzgeschädigten Soldaten in der Traumatherapie helfen\n",
      "0389993 hat Untertitel Wie Jugendliche mit heterogenen Verhaltensweisen Peerinteraktionen in Abhängigkeit des behavioralen Klassenumfeldes erleben\n",
      "0390323 hat Untertitel Motorik (DMB), auditive Wahrnehmung (DIAS), Raum-Zeit-Wahrnehmung (RZI), Selbstkonzept (SKI)\n",
      "0389960 hat Untertitel Diskussion zur Evaluierungsmethodik von Rechtschreibtrainings und Bericht über eine Wirksamkeitsstudie zur \"Sindelar-Methode\"\n",
      "0390033 hat Untertitel A useful tool to broaden and extend psychological research\n",
      "0390226 hat Untertitel Die Behandlung von schweren Neurosen, Traumata und Perversionen, von Borderline- und psychotischen Zuständen\n",
      "0390076 hat Untertitel Illusionen und Wahrhaftigkeit beim Umgang mit gefährlichen Krankheiten\n",
      "0390464 hat Untertitel Überlegungen zur Allgemeinen Didaktik aus einer lerntheoretischen Perspektive\n",
      "0390047 hat Untertitel Erlebnisperspektiven von Jugendlichen\n",
      "0389964 hat Untertitel Studiengangübergreifende Vergleiche und Profilanalysen\n",
      "0390703 hat Untertitel Video-Sprechstunde als Begegnung 2.0\n",
      "0390710 hat Untertitel Oder: Wie ein Leben in Würde mit und nach Corona gelingen kann\n",
      "0390723 hat Untertitel Eine praxisnahe Einführung\n",
      "0390321 hat Untertitel Kinder und Jugendliche in Zeiten des Fernunterrichts unterstützen\n",
      "0390693 hat Untertitel Der Tanz aus dem Trauma in die Leichtigkeit des Seins\n"
     ]
    }
   ],
   "source": [
    "origin_query = \"\"\"\n",
    "prefix bf: <http://id.loc.gov/ontologies/bibframe/> \n",
    "prefix bflc: <http://id.loc.gov/ontologies/bflc/> \n",
    "prefix lang: <http://id.loc.gov/vocabulary/iso639-2/> \n",
    "prefix locid: <http://id.loc.gov/vocabulary/identifiers/> \n",
    "prefix mads: <http://www.loc.gov/mads/rdf/v1#> \n",
    "prefix pxc: <https://w3id.org/zpid/ontology/classes/> \n",
    "prefix pxp: <https://w3id.org/zpid/ontology/properties/> \n",
    "prefix rdf: <http://www.w3.org/1999/02/22-rdf-syntax-ns#> \n",
    "prefix rdfs: <http://www.w3.org/2000/01/rdf-schema#> \n",
    "prefix roles: <https://w3id.org/zpid/vocabs/roles/> \n",
    "prefix schema: <https://schema.org/> \n",
    "prefix works: <https://w3id.org/zpid/resources/works/> \n",
    "prefix xsd: <http://www.w3.org/2001/XMLSchema#> \n",
    "\n",
    "SELECT ?dfk ?subtitle\n",
    "WHERE {\n",
    "?instance bf:identifiedBy ?identifier. \n",
    "?identifier a pxc:DFK; rdf:value ?dfk . \n",
    "?instance bf:title/bf:subtitle ?subtitle .\n",
    "} \"\"\"\n",
    "\n",
    "qres = g.query(origin_query)\n",
    "for row in qres:\n",
    "    # print(row)\n",
    "    print(f\"{row.dfk} hat Untertitel {row.subtitle}\")"
   ]
  },
  {
   "attachments": {},
   "cell_type": "markdown",
   "metadata": {},
   "source": [
    "# Check if there are records with no main title (TI was empty)"
   ]
  },
  {
   "cell_type": "code",
   "execution_count": 1,
   "metadata": {},
   "outputs": [
    {
     "ename": "NameError",
     "evalue": "name 'g' is not defined",
     "output_type": "error",
     "traceback": [
      "\u001b[0;31m---------------------------------------------------------------------------\u001b[0m",
      "\u001b[0;31mNameError\u001b[0m                                 Traceback (most recent call last)",
      "Cell \u001b[0;32mIn[1], line 24\u001b[0m\n\u001b[1;32m      1\u001b[0m origin_query \u001b[38;5;241m=\u001b[39m \u001b[38;5;124m\"\"\"\u001b[39m\n\u001b[1;32m      2\u001b[0m \u001b[38;5;124mprefix bf: <http://id.loc.gov/ontologies/bibframe/> \u001b[39m\n\u001b[1;32m      3\u001b[0m \u001b[38;5;124mprefix bflc: <http://id.loc.gov/ontologies/bflc/> \u001b[39m\n\u001b[0;32m   (...)\u001b[0m\n\u001b[1;32m     21\u001b[0m \u001b[38;5;124mfilter not exists \u001b[39m\u001b[38;5;124m{\u001b[39m\u001b[38;5;124m?instance bf:title/bf:mainTitle ?maintitle .}\u001b[39m\n\u001b[1;32m     22\u001b[0m \u001b[38;5;124m} \u001b[39m\u001b[38;5;124m\"\"\"\u001b[39m\n\u001b[0;32m---> 24\u001b[0m qres \u001b[38;5;241m=\u001b[39m \u001b[43mg\u001b[49m\u001b[38;5;241m.\u001b[39mquery(origin_query)\n\u001b[1;32m     25\u001b[0m \u001b[38;5;28;01mfor\u001b[39;00m row \u001b[38;5;129;01min\u001b[39;00m qres:\n\u001b[1;32m     26\u001b[0m     \u001b[38;5;66;03m# print(row)\u001b[39;00m\n\u001b[1;32m     27\u001b[0m     \u001b[38;5;28mprint\u001b[39m(\u001b[38;5;124mf\u001b[39m\u001b[38;5;124m\"\u001b[39m\u001b[38;5;132;01m{\u001b[39;00mrow\u001b[38;5;241m.\u001b[39mdfk\u001b[38;5;132;01m}\u001b[39;00m\u001b[38;5;124m hat keinen Titel!\u001b[39m\u001b[38;5;124m\"\u001b[39m)\n",
      "\u001b[0;31mNameError\u001b[0m: name 'g' is not defined"
     ]
    }
   ],
   "source": [
    "origin_query = \"\"\"\n",
    "prefix bf: <http://id.loc.gov/ontologies/bibframe/> \n",
    "prefix bflc: <http://id.loc.gov/ontologies/bflc/> \n",
    "prefix lang: <http://id.loc.gov/vocabulary/iso639-2/> \n",
    "prefix locid: <http://id.loc.gov/vocabulary/identifiers/> \n",
    "prefix mads: <http://www.loc.gov/mads/rdf/v1#> \n",
    "prefix pxc: <https://w3id.org/zpid/ontology/classes/> \n",
    "prefix pxp: <https://w3id.org/zpid/ontology/properties/> \n",
    "prefix rdf: <http://www.w3.org/1999/02/22-rdf-syntax-ns#> \n",
    "prefix rdfs: <http://www.w3.org/2000/01/rdf-schema#> \n",
    "prefix roles: <https://w3id.org/zpid/vocabs/roles/> \n",
    "prefix schema: <https://schema.org/> \n",
    "prefix works: <https://w3id.org/zpid/resources/works/> \n",
    "prefix xsd: <http://www.w3.org/2001/XMLSchema#> \n",
    "\n",
    "SELECT ?dfk\n",
    "WHERE {\n",
    "?instance bf:identifiedBy ?identifier. \n",
    "?identifier a pxc:DFK; rdf:value ?dfk . \n",
    "\n",
    "filter not exists {?instance bf:title/bf:mainTitle ?maintitle .}\n",
    "} \"\"\"\n",
    "\n",
    "qres = g.query(origin_query)\n",
    "for row in qres:\n",
    "    # print(row)\n",
    "    print(f\"{row.dfk} hat keinen Titel!\")"
   ]
  },
  {
   "attachments": {},
   "cell_type": "markdown",
   "metadata": {},
   "source": [
    "# Check if there are Abstracts with no origin"
   ]
  },
  {
   "cell_type": "code",
   "execution_count": 5,
   "metadata": {},
   "outputs": [
    {
     "name": "stdout",
     "output_type": "stream",
     "text": [
      "## Found 0 abstracts without origin string.\n"
     ]
    }
   ],
   "source": [
    "# Two dont even have an abstract:\n",
    "# (rdflib.term.Literal('0390504'),)\n",
    "# (rdflib.term.Literal('0390502'),)\n",
    "\n",
    "origin_query = \"\"\"\n",
    "SELECT DISTINCT ?dfk\n",
    "WHERE {\n",
    "?work bf:hasInstance ?instance .\n",
    "?instance bf:identifiedBy ?identifier. \n",
    "?identifier a pxc:DFK; rdf:value ?dfk . \n",
    "# it must have an abstract to check (there are some without):\n",
    "?work bf:summary ?abstract .\n",
    "\n",
    "# now let's see if some abstracts have no origin string:\n",
    "filter not exists {?abstract bf:adminMetadata/bflc:metadataLicensor ?abstract_origin .}\n",
    "\n",
    "# or no editor:\n",
    "#filter not exists {?abstract bf:adminMetadata/bf:descriptionModifier ?abstract_editor .}\n",
    "}\"\"\"\n",
    "\n",
    "qres = g.query(origin_query)\n",
    "print(f\"## Found {len(qres)} abstracts without origin string.\")\n",
    "for row in qres:\n",
    "    # print(row)\n",
    "    print(f\"{row.dfk} has no origin string!\")"
   ]
  },
  {
   "attachments": {},
   "cell_type": "markdown",
   "metadata": {},
   "source": [
    "# All dinstinct values of the abstract origin property"
   ]
  },
  {
   "cell_type": "code",
   "execution_count": 6,
   "metadata": {},
   "outputs": [
    {
     "name": "stdout",
     "output_type": "stream",
     "text": [
      "## There are these 4 disctinct abstract origins:\n",
      "1. Original\n",
      "2. DeepL\n",
      "3. ZPID\n",
      "4. FIS Bildung\n"
     ]
    }
   ],
   "source": [
    "origin_query = \"\"\"\n",
    "SELECT DISTINCT ?abstract_origin\n",
    "WHERE {\n",
    "?work bf:hasInstance ?instance .\n",
    "?instance bf:identifiedBy ?identifier. \n",
    "?identifier a pxc:DFK; rdf:value ?dfk . \n",
    "# it must have an abstract to check (there are some without):\n",
    "?work bf:summary ?abstract .\n",
    "\n",
    "# let's list all available origin strings:\n",
    "?abstract bf:adminMetadata/bflc:metadataLicensor ?abstract_origin .\n",
    "\n",
    "}\"\"\"\n",
    "\n",
    "qres = g.query(origin_query)\n",
    "print(f\"## There are these {len(qres)} disctinct abstract origins:\")\n",
    "for count, row in enumerate(qres):\n",
    "    # print(row)\n",
    "    print(f\"{count+1}. {row.abstract_origin}\")"
   ]
  },
  {
   "attachments": {},
   "cell_type": "markdown",
   "metadata": {},
   "source": [
    "# List affiliation countries without a country code (where non was found)\n",
    "Because that means that my country id table is incomplete or the country name in STAR is faulty. "
   ]
  },
  {
   "cell_type": "code",
   "execution_count": 16,
   "metadata": {},
   "outputs": [],
   "source": [
    "country_query = \"\"\"\n",
    "prefix mads: <http://www.loc.gov/mads/rdf/v1#>\n",
    "prefix bf: <http://id.loc.gov/ontologies/bibframe/>\n",
    "prefix rdfs: <http://www.w3.org/2000/01/rdf-schema#>\n",
    "\n",
    "# i need a query that finds any mads:Country that has an rdfs:label, but no bf:identifiedBy:\n",
    "\n",
    "SELECT ?dfk ?label\n",
    "WHERE {\n",
    "  ?work bf:contribution/mads:hasAffiliation/mads:hasAffiliationAddress/mads:country ?country .\n",
    "  ?country a mads:Country ;\n",
    "           rdfs:label ?label .\n",
    "  ?work bf:hasInstance ?instance .\n",
    "  ?instance bf:identifiedBy ?dfk_node .\n",
    "  ?dfk_node a pxc:DFK; rdf:value ?dfk.\n",
    "  FILTER NOT EXISTS { ?country bf:identifier ?id . ?id a locid:geonames. }\n",
    "} \n",
    "\"\"\"\n",
    "\n",
    "qres = g.query(country_query)\n",
    "for row in qres:\n",
    "    # print(row)\n",
    "    print(f\"{row.dfk}: {row.label} hat keine ID!\")\n"
   ]
  }
 ],
 "metadata": {
  "kernelspec": {
   "display_name": "python-3.10.10",
   "language": "python",
   "name": "python3"
  },
  "language_info": {
   "codemirror_mode": {
    "name": "ipython",
    "version": 3
   },
   "file_extension": ".py",
   "mimetype": "text/x-python",
   "name": "python",
   "nbconvert_exporter": "python",
   "pygments_lexer": "ipython3",
   "version": "3.10.10"
  },
  "orig_nbformat": 4
 },
 "nbformat": 4,
 "nbformat_minor": 2
}
